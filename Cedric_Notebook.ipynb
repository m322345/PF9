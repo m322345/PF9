{
 "cells": [
  {
   "cell_type": "markdown",
   "id": "4e759c1e",
   "metadata": {},
   "source": [
    "# Démarrage de la session Spark"
   ]
  },
  {
   "cell_type": "markdown",
   "id": "3aba202f",
   "metadata": {},
   "source": [
    "<u>Affichage des informations sur la session en cours et liens vers Spark UI</u> :"
   ]
  },
  {
   "cell_type": "code",
   "execution_count": 2,
   "id": "e5f0fbe1",
   "metadata": {},
   "outputs": [
    {
     "name": "stdout",
     "output_type": "stream",
     "text": [
      "Starting Spark application\n"
     ]
    },
    {
     "data": {
      "text/html": [
       "<table>\n",
       "<tr><th>ID</th><th>YARN Application ID</th><th>Kind</th><th>State</th><th>Spark UI</th><th>Driver log</th><th>User</th><th>Current session?</th></tr><tr><td>0</td><td>application_1739197324002_0001</td><td>pyspark</td><td>idle</td><td><a target=\"_blank\" href=\"http://ip-172-31-12-77.eu-west-3.compute.internal:20888/proxy/application_1739197324002_0001/\">Link</a></td><td><a target=\"_blank\" href=\"http://ip-172-31-6-213.eu-west-3.compute.internal:8042/node/containerlogs/container_1739197324002_0001_01_000001/livy\">Link</a></td><td>None</td><td>✔</td></tr></table>"
      ],
      "text/plain": [
       "<IPython.core.display.HTML object>"
      ]
     },
     "metadata": {},
     "output_type": "display_data"
    },
    {
     "data": {
      "application/vnd.jupyter.widget-view+json": {
       "model_id": "",
       "version_major": 2,
       "version_minor": 0
      },
      "text/plain": [
       "FloatProgress(value=0.0, bar_style='info', description='Progress:', layout=Layout(height='25px', width='50%'),…"
      ]
     },
     "metadata": {},
     "output_type": "display_data"
    },
    {
     "name": "stdout",
     "output_type": "stream",
     "text": [
      "SparkSession available as 'spark'.\n"
     ]
    },
    {
     "data": {
      "application/vnd.jupyter.widget-view+json": {
       "model_id": "",
       "version_major": 2,
       "version_minor": 0
      },
      "text/plain": [
       "FloatProgress(value=0.0, bar_style='info', description='Progress:', layout=Layout(height='25px', width='50%'),…"
      ]
     },
     "metadata": {},
     "output_type": "display_data"
    }
   ],
   "source": [
    "# L'exécution de cette cellule démarre l'application Spark"
   ]
  },
  {
   "cell_type": "markdown",
   "id": "aa5a3007-a6f9-4e98-88ea-67801a35c5d7",
   "metadata": {},
   "source": [
    "# Installation des packages\n",
    "\n",
    "Les packages nécessaires ont été installé via l'étape de **bootstrap** à l'instanciation du serveur.\n",
    "Voici la liste des versions python et modules"
   ]
  },
  {
   "cell_type": "code",
   "execution_count": 3,
   "id": "17fc887e",
   "metadata": {},
   "outputs": [
    {
     "data": {
      "application/vnd.jupyter.widget-view+json": {
       "model_id": "",
       "version_major": 2,
       "version_minor": 0
      },
      "text/plain": [
       "FloatProgress(value=0.0, bar_style='info', description='Progress:', layout=Layout(height='25px', width='50%'),…"
      ]
     },
     "metadata": {},
     "output_type": "display_data"
    },
    {
     "name": "stdout",
     "output_type": "stream",
     "text": [
      "Version Python :\n",
      " 3.9.20 (main, Dec 11 2024, 00:00:00) \n",
      "[GCC 11.4.1 20230605 (Red Hat 11.4.1-2)]\n",
      "Package                      Version\n",
      "---------------------------- -----------\n",
      "absl-py                      1.3.0\n",
      "aiobotocore                  2.19.0\n",
      "aiohappyeyeballs             2.4.6\n",
      "aiohttp                      3.11.12\n",
      "aioitertools                 0.12.0\n",
      "aiosignal                    1.3.2\n",
      "appdirs                      1.4.4\n",
      "astor                        0.8.1\n",
      "astunparse                   1.6.3\n",
      "async-timeout                5.0.1\n",
      "attrs                        20.3.0\n",
      "aws-cfn-bootstrap            2.0\n",
      "awscli                       2.17.18\n",
      "awscrt                       0.19.19\n",
      "Babel                        2.9.1\n",
      "beautifulsoup4               4.9.3\n",
      "bleach                       3.3.1\n",
      "boto                         2.49.0\n",
      "boto3                        1.36.16\n",
      "botocore                     1.36.3\n",
      "cachetools                   4.1.1\n",
      "certifi                      2024.12.14\n",
      "cffi                         1.14.5\n",
      "chardet                      5.2.0\n",
      "charset-normalizer           3.4.1\n",
      "chevron                      0.13.1\n",
      "click                        8.1.8\n",
      "cloud-init                   22.2.2\n",
      "colorama                     0.4.4\n",
      "configobj                    5.0.6\n",
      "cryptography                 3.2.1\n",
      "dbus-python                  1.2.18\n",
      "distlib                      0.3.1\n",
      "distro                       1.5.0\n",
      "dm-tree                      0.1.8\n",
      "docutils                     0.16\n",
      "ec2-hibinit-agent            1.0.8\n",
      "filelock                     3.0.12\n",
      "flatbuffers                  25.1.21\n",
      "frozenlist                   1.5.0\n",
      "fsspec                       2025.2.0\n",
      "funcsigs                     1.0.2\n",
      "gast                         0.5.3\n",
      "google-auth                  1.23.0\n",
      "google-auth-oauthlib         0.4.2\n",
      "google-pasta                 0.2.0\n",
      "gpg                          1.15.1\n",
      "grpcio                       1.48.2\n",
      "h5py                         3.10.0\n",
      "html5lib                     1.1\n",
      "idna                         2.10\n",
      "importlib-metadata           2.0.0\n",
      "Jinja2                       2.11.3\n",
      "jmespath                     1.0.1\n",
      "joblib                       1.4.2\n",
      "jsonpatch                    1.21\n",
      "jsonpointer                  2.0\n",
      "jsonschema                   3.2.0\n",
      "keras                        3.0.0\n",
      "Keras-Applications           1.0.8\n",
      "Keras-Preprocessing          1.1.2\n",
      "libclang                     17.0.6\n",
      "libcomps                     0.1.20\n",
      "lockfile                     0.12.2\n",
      "lxml                         5.3.0\n",
      "Markdown                     3.3.4\n",
      "markdown-it-py               3.0.0\n",
      "MarkupSafe                   1.1.1\n",
      "mdurl                        0.1.2\n",
      "ml-dtypes                    0.3.2\n",
      "multidict                    6.1.0\n",
      "mysqlclient                  1.4.2\n",
      "namex                        0.0.8\n",
      "netifaces                    0.10.6\n",
      "nltk                         3.9.1\n",
      "nose                         1.3.4\n",
      "numpy                        1.26.4\n",
      "oauthlib                     3.1.0\n",
      "opt-einsum                   2.3.2\n",
      "packaging                    24.2\n",
      "pandas                       2.0.0\n",
      "pillow                       11.1.0\n",
      "pip                          21.3.1\n",
      "ply                          3.11\n",
      "prettytable                  0.7.2\n",
      "prompt-toolkit               3.0.24\n",
      "propcache                    0.2.1\n",
      "protobuf                     3.20.3\n",
      "py-dateutil                  2.2\n",
      "pyarrow                      19.0.0\n",
      "pyasn1                       0.4.8\n",
      "pyasn1-modules               0.2.8\n",
      "pycparser                    2.20\n",
      "Pygments                     2.19.1\n",
      "pyparsing                    2.4.7\n",
      "pyrsistent                   0.17.3\n",
      "pyserial                     3.4\n",
      "PySocks                      1.7.1\n",
      "python-daemon                2.3.0\n",
      "python-dateutil              2.9.0.post0\n",
      "pytz                         2024.2\n",
      "PyYAML                       5.4.1\n",
      "regex                        2021.11.10\n",
      "release-notification         1.2\n",
      "requests                     2.32.3\n",
      "requests-oauthlib            1.3.0\n",
      "rich                         13.9.4\n",
      "rpm                          4.16.1.3\n",
      "rsa                          4.6\n",
      "ruamel.yaml                  0.16.6\n",
      "ruamel.yaml.clib             0.1.2\n",
      "s3fs                         2025.2.0\n",
      "s3transfer                   0.11.2\n",
      "selinux                      3.4\n",
      "sepolicy                     3.4\n",
      "setools                      4.4.1\n",
      "setuptools                   44.0.0\n",
      "six                          1.13.0\n",
      "soupsieve                    1.9.5\n",
      "support-info                 1.0\n",
      "systemd-python               235\n",
      "tensorboard                  2.16.1\n",
      "tensorboard-plugin-wit       1.8.0\n",
      "tensorflow                   2.16.1\n",
      "tensorflow-estimator         2.15.0\n",
      "tensorflow-io-gcs-filesystem 0.24.0\n",
      "termcolor                    1.1.0\n",
      "tf-keras                     2.15.0\n",
      "tqdm                         4.67.1\n",
      "typing_extensions            4.12.2\n",
      "tzdata                       2025.1\n",
      "urllib3                      1.26.15\n",
      "virtualenv                   20.4.0\n",
      "wcwidth                      0.2.5\n",
      "webencodings                 0.5.1\n",
      "Werkzeug                     1.0.1\n",
      "wheel                        0.35.1\n",
      "windmill                     1.6\n",
      "wrapt                        1.17.2\n",
      "yarl                         1.18.3\n",
      "zipp                         3.4.0\n",
      "PIP LIST :\n",
      " 0\n",
      "WARNING: The directory '/home/.cache/pip' or its parent directory is not owned or is not writable by the current user. The cache has been disabled. Check the permissions and owner of that directory. If executing pip with sudo, you should use sudo's -H flag."
     ]
    }
   ],
   "source": [
    "import sys\n",
    "print(\"Version Python :\\n\", sys.version)\n",
    "\n",
    "from pip import _internal\n",
    "print(\"PIP LIST :\\n\", _internal.main(['list']))"
   ]
  },
  {
   "cell_type": "markdown",
   "id": "9edcb5c6-0693-44ee-b641-0d4e9d28d575",
   "metadata": {},
   "source": [
    "# Import des librairies"
   ]
  },
  {
   "cell_type": "code",
   "execution_count": 6,
   "id": "ad562eab",
   "metadata": {},
   "outputs": [
    {
     "data": {
      "application/vnd.jupyter.widget-view+json": {
       "model_id": "",
       "version_major": 2,
       "version_minor": 0
      },
      "text/plain": [
       "FloatProgress(value=0.0, bar_style='info', description='Progress:', layout=Layout(height='25px', width='50%'),…"
      ]
     },
     "metadata": {},
     "output_type": "display_data"
    }
   ],
   "source": [
    "import pandas as pd\n",
    "import numpy as np\n",
    "import io\n",
    "import os\n",
    "from PIL import Image\n",
    "\n",
    "import tensorflow as tf\n",
    "from tensorflow.keras.applications.mobilenet_v2 import MobileNetV2, preprocess_input\n",
    "from tensorflow.keras.preprocessing.image import img_to_array\n",
    "from tensorflow.keras import Model\n",
    "from pyspark.sql.functions import col, pandas_udf, udf, PandasUDFType, element_at, split\n",
    "\n",
    "from pyspark.sql import SparkSession\n",
    "from pyspark.ml import Pipeline\n",
    "from pyspark.ml.feature import PCA\n",
    "from pyspark.ml.linalg import Vectors, VectorUDT\n",
    "from pyspark.ml.feature import StandardScaler"
   ]
  },
  {
   "cell_type": "markdown",
   "id": "83663cbd",
   "metadata": {},
   "source": [
    "# Définition des PATH pour charger les images et enregistrer les résultats\n",
    "\n",
    "Nous accédons directement à nos **données sur S3** comme si elles étaient **stockées localement**."
   ]
  },
  {
   "cell_type": "code",
   "execution_count": 7,
   "id": "46be859d",
   "metadata": {},
   "outputs": [
    {
     "data": {
      "application/vnd.jupyter.widget-view+json": {
       "model_id": "",
       "version_major": 2,
       "version_minor": 0
      },
      "text/plain": [
       "FloatProgress(value=0.0, bar_style='info', description='Progress:', layout=Layout(height='25px', width='50%'),…"
      ]
     },
     "metadata": {},
     "output_type": "display_data"
    },
    {
     "name": "stdout",
     "output_type": "stream",
     "text": [
      "PATH:        s3://ocp9-fr-data\n",
      "PATH_Data:   s3://ocp9-fr-data/Test\n",
      "PATH_Result: s3://ocp9-fr-data/Results"
     ]
    }
   ],
   "source": [
    "PATH = 's3://ocp9-fr-data'\n",
    "PATH_Data = PATH+'/Test'\n",
    "PATH_Result = PATH+'/Results'\n",
    "print('PATH:        '+\\\n",
    "      PATH+'\\nPATH_Data:   '+\\\n",
    "      PATH_Data+'\\nPATH_Result: '+PATH_Result)"
   ]
  },
  {
   "cell_type": "markdown",
   "id": "cf883c20",
   "metadata": {},
   "source": [
    "# Traitement des données"
   ]
  },
  {
   "cell_type": "markdown",
   "id": "2ffe93f5",
   "metadata": {},
   "source": [
    "## Chargement des données\n",
    "> Les données sont placées dans le bucket S3 ocp9-fr-data dans le répertoire Tests<br>\n",
    "> Elles sont chargées au format binaire ce qui sera plus souple pour les prétraitements<br>\n",
    "> on ne récupère que les fichiers jpg contenus dans toute l'arborescence\n"
   ]
  },
  {
   "cell_type": "code",
   "execution_count": 8,
   "id": "7e4b319a",
   "metadata": {},
   "outputs": [
    {
     "data": {
      "application/vnd.jupyter.widget-view+json": {
       "model_id": "",
       "version_major": 2,
       "version_minor": 0
      },
      "text/plain": [
       "FloatProgress(value=0.0, bar_style='info', description='Progress:', layout=Layout(height='25px', width='50%'),…"
      ]
     },
     "metadata": {},
     "output_type": "display_data"
    }
   ],
   "source": [
    "images = spark.read.format(\"binaryFile\") \\\n",
    "  .option(\"pathGlobFilter\", \"*.jpg\") \\\n",
    "  .option(\"recursiveFileLookup\", \"true\") \\\n",
    "  .load(PATH_Data)"
   ]
  },
  {
   "cell_type": "markdown",
   "id": "7818e40e-2f48-4a55-aec7-a4e1b8368079",
   "metadata": {},
   "source": [
    "## Affichage données brutes\n",
    "> nous pouvons voir le Path de l'image, sa date et heure de modification, sa taille , son contenu encodé en hexadécimal"
   ]
  },
  {
   "cell_type": "code",
   "execution_count": 9,
   "id": "16bfeb4d",
   "metadata": {},
   "outputs": [
    {
     "data": {
      "application/vnd.jupyter.widget-view+json": {
       "model_id": "",
       "version_major": 2,
       "version_minor": 0
      },
      "text/plain": [
       "FloatProgress(value=0.0, bar_style='info', description='Progress:', layout=Layout(height='25px', width='50%'),…"
      ]
     },
     "metadata": {},
     "output_type": "display_data"
    },
    {
     "name": "stdout",
     "output_type": "stream",
     "text": [
      "+--------------------+-------------------+------+--------------------+\n",
      "|                path|   modificationTime|length|             content|\n",
      "+--------------------+-------------------+------+--------------------+\n",
      "|s3://ocp9-fr-data...|2025-02-07 13:40:33|  5061|[FF D8 FF E0 00 1...|\n",
      "|s3://ocp9-fr-data...|2025-02-07 13:40:33|  5058|[FF D8 FF E0 00 1...|\n",
      "|s3://ocp9-fr-data...|2025-02-07 13:40:33|  5056|[FF D8 FF E0 00 1...|\n",
      "|s3://ocp9-fr-data...|2025-02-07 13:40:33|  5048|[FF D8 FF E0 00 1...|\n",
      "|s3://ocp9-fr-data...|2025-02-07 13:40:33|  5048|[FF D8 FF E0 00 1...|\n",
      "+--------------------+-------------------+------+--------------------+\n",
      "only showing top 5 rows"
     ]
    }
   ],
   "source": [
    "images.show(5)"
   ]
  },
  {
   "cell_type": "markdown",
   "id": "8b32ac34",
   "metadata": {},
   "source": [
    "## Affichage du Path et des labels\n",
    "> nous recupérons le dernier niveau du path comme labelisation"
   ]
  },
  {
   "cell_type": "code",
   "execution_count": 10,
   "id": "a52ab808",
   "metadata": {},
   "outputs": [
    {
     "data": {
      "application/vnd.jupyter.widget-view+json": {
       "model_id": "",
       "version_major": 2,
       "version_minor": 0
      },
      "text/plain": [
       "FloatProgress(value=0.0, bar_style='info', description='Progress:', layout=Layout(height='25px', width='50%'),…"
      ]
     },
     "metadata": {},
     "output_type": "display_data"
    },
    {
     "name": "stdout",
     "output_type": "stream",
     "text": [
      "root\n",
      " |-- path: string (nullable = true)\n",
      " |-- modificationTime: timestamp (nullable = true)\n",
      " |-- length: long (nullable = true)\n",
      " |-- content: binary (nullable = true)\n",
      " |-- label: string (nullable = true)\n",
      "\n",
      "None\n",
      "+-----------------------------------------+-------+\n",
      "|path                                     |label  |\n",
      "+-----------------------------------------+-------+\n",
      "|s3://ocp9-fr-data/Test/Tangelo/14_100.jpg|Tangelo|\n",
      "|s3://ocp9-fr-data/Test/Tangelo/17_100.jpg|Tangelo|\n",
      "|s3://ocp9-fr-data/Test/Tangelo/20_100.jpg|Tangelo|\n",
      "|s3://ocp9-fr-data/Test/Tangelo/15_100.jpg|Tangelo|\n",
      "|s3://ocp9-fr-data/Test/Tangelo/19_100.jpg|Tangelo|\n",
      "+-----------------------------------------+-------+\n",
      "only showing top 5 rows\n",
      "\n",
      "None"
     ]
    }
   ],
   "source": [
    "images = images.withColumn('label', element_at(split(images['path'], '/'),-2))\n",
    "print(images.printSchema())\n",
    "print(images.select('path','label').show(5,False))"
   ]
  },
  {
   "cell_type": "markdown",
   "id": "8f15b199",
   "metadata": {},
   "source": [
    "# Récupération du modèle déjà entrainé"
   ]
  },
  {
   "cell_type": "code",
   "execution_count": 11,
   "id": "ec7c7165",
   "metadata": {},
   "outputs": [
    {
     "data": {
      "application/vnd.jupyter.widget-view+json": {
       "model_id": "",
       "version_major": 2,
       "version_minor": 0
      },
      "text/plain": [
       "FloatProgress(value=0.0, bar_style='info', description='Progress:', layout=Layout(height='25px', width='50%'),…"
      ]
     },
     "metadata": {},
     "output_type": "display_data"
    },
    {
     "name": "stdout",
     "output_type": "stream",
     "text": [
      "Downloading data from https://storage.googleapis.com/tensorflow/keras-applications/mobilenet_v2/mobilenet_v2_weights_tf_dim_ordering_tf_kernels_1.0_224.h5\n",
      "\r",
      "\u001b[1m       0/14536120\u001b[0m \u001b[37m━━━━━━━━━━━━━━━━━━━━\u001b[0m \u001b[1m0s\u001b[0m 0s/step\b\b\b\b\b\b\b\b\b\b\b\b\b\b\b\b\b\b\b\b\b\b\b\b\b\b\b\b\b\b\b\b\b\b\b\b\b\b\b\b\b\b\b\b\b\b\b\b\b\r",
      "\u001b[1m   49152/14536120\u001b[0m \u001b[37m━━━━━━━━━━━━━━━━━━━━\u001b[0m \u001b[1m23s\u001b[0m 2us/step\b\b\b\b\b\b\b\b\b\b\b\b\b\b\b\b\b\b\b\b\b\b\b\b\b\b\b\b\b\b\b\b\b\b\b\b\b\b\b\b\b\b\b\b\b\b\b\b\b\b\b\r",
      "\u001b[1m   81920/14536120\u001b[0m \u001b[37m━━━━━━━━━━━━━━━━━━━━\u001b[0m \u001b[1m27s\u001b[0m 2us/step\b\b\b\b\b\b\b\b\b\b\b\b\b\b\b\b\b\b\b\b\b\b\b\b\b\b\b\b\b\b\b\b\b\b\b\b\b\b\b\b\b\b\b\b\b\b\b\b\b\b\b\r",
      "\u001b[1m 1056768/14536120\u001b[0m \u001b[32m━\u001b[0m\u001b[37m━━━━━━━━━━━━━━━━━━━\u001b[0m \u001b[1m2s\u001b[0m 0us/step \b\b\b\b\b\b\b\b\b\b\b\b\b\b\b\b\b\b\b\b\b\b\b\b\b\b\b\b\b\b\b\b\b\b\b\b\b\b\b\b\b\b\b\b\b\b\b\b\b\b\r",
      "\u001b[1m 1654784/14536120\u001b[0m \u001b[32m━━\u001b[0m\u001b[37m━━━━━━━━━━━━━━━━━━\u001b[0m \u001b[1m2s\u001b[0m 0us/step\b\b\b\b\b\b\b\b\b\b\b\b\b\b\b\b\b\b\b\b\b\b\b\b\b\b\b\b\b\b\b\b\b\b\b\b\b\b\b\b\b\b\b\b\b\b\b\b\b\b\r",
      "\u001b[1m 2646016/14536120\u001b[0m \u001b[32m━━━\u001b[0m\u001b[37m━━━━━━━━━━━━━━━━━\u001b[0m \u001b[1m1s\u001b[0m 0us/step\b\b\b\b\b\b\b\b\b\b\b\b\b\b\b\b\b\b\b\b\b\b\b\b\b\b\b\b\b\b\b\b\b\b\b\b\b\b\b\b\b\b\b\b\b\b\b\b\b\b\r",
      "\u001b[1m 4546560/14536120\u001b[0m \u001b[32m━━━━━━\u001b[0m\u001b[37m━━━━━━━━━━━━━━\u001b[0m \u001b[1m0s\u001b[0m 0us/step\b\b\b\b\b\b\b\b\b\b\b\b\b\b\b\b\b\b\b\b\b\b\b\b\b\b\b\b\b\b\b\b\b\b\b\b\b\b\b\b\b\b\b\b\b\b\b\b\b\b\r",
      "\u001b[1m 6782976/14536120\u001b[0m \u001b[32m━━━━━━━━━\u001b[0m\u001b[37m━━━━━━━━━━━\u001b[0m \u001b[1m0s\u001b[0m 0us/step\b\b\b\b\b\b\b\b\b\b\b\b\b\b\b\b\b\b\b\b\b\b\b\b\b\b\b\b\b\b\b\b\b\b\b\b\b\b\b\b\b\b\b\b\b\b\b\b\b\b\r",
      "\u001b[1m 9338880/14536120\u001b[0m \u001b[32m━━━━━━━━━━━━\u001b[0m\u001b[37m━━━━━━━━\u001b[0m \u001b[1m0s\u001b[0m 0us/step\b\b\b\b\b\b\b\b\b\b\b\b\b\b\b\b\b\b\b\b\b\b\b\b\b\b\b\b\b\b\b\b\b\b\b\b\b\b\b\b\b\b\b\b\b\b\b\b\b\b\r",
      "\u001b[1m12386304/14536120\u001b[0m \u001b[32m━━━━━━━━━━━━━━━━━\u001b[0m\u001b[37m━━━\u001b[0m \u001b[1m0s\u001b[0m 0us/step\b\b\b\b\b\b\b\b\b\b\b\b\b\b\b\b\b\b\b\b\b\b\b\b\b\b\b\b\b\b\b\b\b\b\b\b\b\b\b\b\b\b\b\b\b\b\b\b\b\b\r",
      "\u001b[1m14536120/14536120\u001b[0m \u001b[32m━━━━━━━━━━━━━━━━━━━━\u001b[0m\u001b[37m\u001b[0m \u001b[1m1s\u001b[0m 0us/step"
     ]
    }
   ],
   "source": [
    "model = MobileNetV2(weights='imagenet',\n",
    "                    include_top=True,\n",
    "                    input_shape=(224, 224, 3))"
   ]
  },
  {
   "cell_type": "code",
   "execution_count": 12,
   "id": "1b9bc650",
   "metadata": {},
   "outputs": [
    {
     "data": {
      "application/vnd.jupyter.widget-view+json": {
       "model_id": "",
       "version_major": 2,
       "version_minor": 0
      },
      "text/plain": [
       "FloatProgress(value=0.0, bar_style='info', description='Progress:', layout=Layout(height='25px', width='50%'),…"
      ]
     },
     "metadata": {},
     "output_type": "display_data"
    }
   ],
   "source": [
    "new_model = Model(inputs=model.input,\n",
    "                  outputs=model.layers[-2].output)"
   ]
  },
  {
   "cell_type": "markdown",
   "id": "80f07284-dc36-4057-b20c-7262012e6c8c",
   "metadata": {},
   "source": [
    "## Export des poids du modèle"
   ]
  },
  {
   "cell_type": "code",
   "execution_count": 13,
   "id": "a0d497f2",
   "metadata": {},
   "outputs": [
    {
     "data": {
      "application/vnd.jupyter.widget-view+json": {
       "model_id": "",
       "version_major": 2,
       "version_minor": 0
      },
      "text/plain": [
       "FloatProgress(value=0.0, bar_style='info', description='Progress:', layout=Layout(height='25px', width='50%'),…"
      ]
     },
     "metadata": {},
     "output_type": "display_data"
    }
   ],
   "source": [
    "brodcast_weights = sc.broadcast(new_model.get_weights())"
   ]
  },
  {
   "cell_type": "code",
   "execution_count": 14,
   "id": "1bc0bf14",
   "metadata": {},
   "outputs": [
    {
     "data": {
      "application/vnd.jupyter.widget-view+json": {
       "model_id": "",
       "version_major": 2,
       "version_minor": 0
      },
      "text/plain": [
       "FloatProgress(value=0.0, bar_style='info', description='Progress:', layout=Layout(height='25px', width='50%'),…"
      ]
     },
     "metadata": {},
     "output_type": "display_data"
    },
    {
     "name": "stdout",
     "output_type": "stream",
     "text": [
      "Model: \"functional_1\"\n",
      "┏━━━━━━━━━━━━━━━━━━━━━┳━━━━━━━━━━━━━━━━━━━┳━━━━━━━━━┳━━━━━━━━━━━━━━━━━━━━━━┓\n",
      "┃ Layer (type)        ┃ Output Shape      ┃ Param # ┃ Connected to         ┃\n",
      "┡━━━━━━━━━━━━━━━━━━━━━╇━━━━━━━━━━━━━━━━━━━╇━━━━━━━━━╇━━━━━━━━━━━━━━━━━━━━━━┩\n",
      "│ input_layer         │ (None, 224, 224,  │       0 │ -                    │\n",
      "│ (InputLayer)        │ 3)                │         │                      │\n",
      "├─────────────────────┼───────────────────┼─────────┼──────────────────────┤\n",
      "│ Conv1 (Conv2D)      │ (None, 112, 112,  │     864 │ input_layer[0][0]    │\n",
      "│                     │ 32)               │         │                      │\n",
      "├─────────────────────┼───────────────────┼─────────┼──────────────────────┤\n",
      "│ bn_Conv1            │ (None, 112, 112,  │     128 │ Conv1[0][0]          │\n",
      "│ (BatchNormalizatio… │ 32)               │         │                      │\n",
      "├─────────────────────┼───────────────────┼─────────┼──────────────────────┤\n",
      "│ Conv1_relu (ReLU)   │ (None, 112, 112,  │       0 │ bn_Conv1[0][0]       │\n",
      "│                     │ 32)               │         │                      │\n",
      "├─────────────────────┼───────────────────┼─────────┼──────────────────────┤\n",
      "│ expanded_conv_dept… │ (None, 112, 112,  │     288 │ Conv1_relu[0][0]     │\n",
      "│ (DepthwiseConv2D)   │ 32)               │         │                      │\n",
      "├─────────────────────┼───────────────────┼─────────┼──────────────────────┤\n",
      "│ expanded_conv_dept… │ (None, 112, 112,  │     128 │ expanded_conv_depth… │\n",
      "│ (BatchNormalizatio… │ 32)               │         │                      │\n",
      "├─────────────────────┼───────────────────┼─────────┼──────────────────────┤\n",
      "│ expanded_conv_dept… │ (None, 112, 112,  │       0 │ expanded_conv_depth… │\n",
      "│ (ReLU)              │ 32)               │         │                      │\n",
      "├─────────────────────┼───────────────────┼─────────┼──────────────────────┤\n",
      "│ expanded_conv_proj… │ (None, 112, 112,  │     512 │ expanded_conv_depth… │\n",
      "│ (Conv2D)            │ 16)               │         │                      │\n",
      "├─────────────────────┼───────────────────┼─────────┼──────────────────────┤\n",
      "│ expanded_conv_proj… │ (None, 112, 112,  │      64 │ expanded_conv_proje… │\n",
      "│ (BatchNormalizatio… │ 16)               │         │                      │\n",
      "├─────────────────────┼───────────────────┼─────────┼──────────────────────┤\n",
      "│ block_1_expand      │ (None, 112, 112,  │   1,536 │ expanded_conv_proje… │\n",
      "│ (Conv2D)            │ 96)               │         │                      │\n",
      "├─────────────────────┼───────────────────┼─────────┼──────────────────────┤\n",
      "│ block_1_expand_BN   │ (None, 112, 112,  │     384 │ block_1_expand[0][0] │\n",
      "│ (BatchNormalizatio… │ 96)               │         │                      │\n",
      "├─────────────────────┼───────────────────┼─────────┼──────────────────────┤\n",
      "│ block_1_expand_relu │ (None, 112, 112,  │       0 │ block_1_expand_BN[0… │\n",
      "│ (ReLU)              │ 96)               │         │                      │\n",
      "├─────────────────────┼───────────────────┼─────────┼──────────────────────┤\n",
      "│ block_1_pad         │ (None, 113, 113,  │       0 │ block_1_expand_relu… │\n",
      "│ (ZeroPadding2D)     │ 96)               │         │                      │\n",
      "├─────────────────────┼───────────────────┼─────────┼──────────────────────┤\n",
      "│ block_1_depthwise   │ (None, 56, 56,    │     864 │ block_1_pad[0][0]    │\n",
      "│ (DepthwiseConv2D)   │ 96)               │         │                      │\n",
      "├─────────────────────┼───────────────────┼─────────┼──────────────────────┤\n",
      "│ block_1_depthwise_… │ (None, 56, 56,    │     384 │ block_1_depthwise[0… │\n",
      "│ (BatchNormalizatio… │ 96)               │         │                      │\n",
      "├─────────────────────┼───────────────────┼─────────┼──────────────────────┤\n",
      "│ block_1_depthwise_… │ (None, 56, 56,    │       0 │ block_1_depthwise_B… │\n",
      "│ (ReLU)              │ 96)               │         │                      │\n",
      "├─────────────────────┼───────────────────┼─────────┼──────────────────────┤\n",
      "│ block_1_project     │ (None, 56, 56,    │   2,304 │ block_1_depthwise_r… │\n",
      "│ (Conv2D)            │ 24)               │         │                      │\n",
      "├─────────────────────┼───────────────────┼─────────┼──────────────────────┤\n",
      "│ block_1_project_BN  │ (None, 56, 56,    │      96 │ block_1_project[0][… │\n",
      "│ (BatchNormalizatio… │ 24)               │         │                      │\n",
      "├─────────────────────┼───────────────────┼─────────┼──────────────────────┤\n",
      "│ block_2_expand      │ (None, 56, 56,    │   3,456 │ block_1_project_BN[… │\n",
      "│ (Conv2D)            │ 144)              │         │                      │\n",
      "├─────────────────────┼───────────────────┼─────────┼──────────────────────┤\n",
      "│ block_2_expand_BN   │ (None, 56, 56,    │     576 │ block_2_expand[0][0] │\n",
      "│ (BatchNormalizatio… │ 144)              │         │                      │\n",
      "├─────────────────────┼───────────────────┼─────────┼──────────────────────┤\n",
      "│ block_2_expand_relu │ (None, 56, 56,    │       0 │ block_2_expand_BN[0… │\n",
      "│ (ReLU)              │ 144)              │         │                      │\n",
      "├─────────────────────┼───────────────────┼─────────┼──────────────────────┤\n",
      "│ block_2_depthwise   │ (None, 56, 56,    │   1,296 │ block_2_expand_relu… │\n",
      "│ (DepthwiseConv2D)   │ 144)              │         │                      │\n",
      "├─────────────────────┼───────────────────┼─────────┼──────────────────────┤\n",
      "│ block_2_depthwise_… │ (None, 56, 56,    │     576 │ block_2_depthwise[0… │\n",
      "│ (BatchNormalizatio… │ 144)              │         │                      │\n",
      "├─────────────────────┼───────────────────┼─────────┼──────────────────────┤\n",
      "│ block_2_depthwise_… │ (None, 56, 56,    │       0 │ block_2_depthwise_B… │\n",
      "│ (ReLU)              │ 144)              │         │                      │\n",
      "├─────────────────────┼───────────────────┼─────────┼──────────────────────┤\n",
      "│ block_2_project     │ (None, 56, 56,    │   3,456 │ block_2_depthwise_r… │\n",
      "│ (Conv2D)            │ 24)               │         │                      │\n",
      "├─────────────────────┼───────────────────┼─────────┼──────────────────────┤\n",
      "│ block_2_project_BN  │ (None, 56, 56,    │      96 │ block_2_project[0][… │\n",
      "│ (BatchNormalizatio… │ 24)               │         │                      │\n",
      "├─────────────────────┼───────────────────┼─────────┼──────────────────────┤\n",
      "│ block_2_add (Add)   │ (None, 56, 56,    │       0 │ block_1_project_BN[… │\n",
      "│                     │ 24)               │         │ block_2_project_BN[… │\n",
      "├─────────────────────┼───────────────────┼─────────┼──────────────────────┤\n",
      "│ block_3_expand      │ (None, 56, 56,    │   3,456 │ block_2_add[0][0]    │\n",
      "│ (Conv2D)            │ 144)              │         │                      │\n",
      "├─────────────────────┼───────────────────┼─────────┼──────────────────────┤\n",
      "│ block_3_expand_BN   │ (None, 56, 56,    │     576 │ block_3_expand[0][0] │\n",
      "│ (BatchNormalizatio… │ 144)              │         │                      │\n",
      "├─────────────────────┼───────────────────┼─────────┼──────────────────────┤\n",
      "│ block_3_expand_relu │ (None, 56, 56,    │       0 │ block_3_expand_BN[0… │\n",
      "│ (ReLU)              │ 144)              │         │                      │\n",
      "├─────────────────────┼───────────────────┼─────────┼──────────────────────┤\n",
      "│ block_3_pad         │ (None, 57, 57,    │       0 │ block_3_expand_relu… │\n",
      "│ (ZeroPadding2D)     │ 144)              │         │                      │\n",
      "├─────────────────────┼───────────────────┼─────────┼──────────────────────┤\n",
      "│ block_3_depthwise   │ (None, 28, 28,    │   1,296 │ block_3_pad[0][0]    │\n",
      "│ (DepthwiseConv2D)   │ 144)              │         │                      │\n",
      "├─────────────────────┼───────────────────┼─────────┼──────────────────────┤\n",
      "│ block_3_depthwise_… │ (None, 28, 28,    │     576 │ block_3_depthwise[0… │\n",
      "│ (BatchNormalizatio… │ 144)              │         │                      │\n",
      "├─────────────────────┼───────────────────┼─────────┼──────────────────────┤\n",
      "│ block_3_depthwise_… │ (None, 28, 28,    │       0 │ block_3_depthwise_B… │\n",
      "│ (ReLU)              │ 144)              │         │                      │\n",
      "├─────────────────────┼───────────────────┼─────────┼──────────────────────┤\n",
      "│ block_3_project     │ (None, 28, 28,    │   4,608 │ block_3_depthwise_r… │\n",
      "│ (Conv2D)            │ 32)               │         │                      │\n",
      "├─────────────────────┼───────────────────┼─────────┼──────────────────────┤\n",
      "│ block_3_project_BN  │ (None, 28, 28,    │     128 │ block_3_project[0][… │\n",
      "│ (BatchNormalizatio… │ 32)               │         │                      │\n",
      "├─────────────────────┼───────────────────┼─────────┼──────────────────────┤\n",
      "│ block_4_expand      │ (None, 28, 28,    │   6,144 │ block_3_project_BN[… │\n",
      "│ (Conv2D)            │ 192)              │         │                      │\n",
      "├─────────────────────┼───────────────────┼─────────┼──────────────────────┤\n",
      "│ block_4_expand_BN   │ (None, 28, 28,    │     768 │ block_4_expand[0][0] │\n",
      "│ (BatchNormalizatio… │ 192)              │         │                      │\n",
      "├─────────────────────┼───────────────────┼─────────┼──────────────────────┤\n",
      "│ block_4_expand_relu │ (None, 28, 28,    │       0 │ block_4_expand_BN[0… │\n",
      "│ (ReLU)              │ 192)              │         │                      │\n",
      "├─────────────────────┼───────────────────┼─────────┼──────────────────────┤\n",
      "│ block_4_depthwise   │ (None, 28, 28,    │   1,728 │ block_4_expand_relu… │\n",
      "│ (DepthwiseConv2D)   │ 192)              │         │                      │\n",
      "├─────────────────────┼───────────────────┼─────────┼──────────────────────┤\n",
      "│ block_4_depthwise_… │ (None, 28, 28,    │     768 │ block_4_depthwise[0… │\n",
      "│ (BatchNormalizatio… │ 192)              │         │                      │\n",
      "├─────────────────────┼───────────────────┼─────────┼──────────────────────┤\n",
      "│ block_4_depthwise_… │ (None, 28, 28,    │       0 │ block_4_depthwise_B… │\n",
      "│ (ReLU)              │ 192)              │         │                      │\n",
      "├─────────────────────┼───────────────────┼─────────┼──────────────────────┤\n",
      "│ block_4_project     │ (None, 28, 28,    │   6,144 │ block_4_depthwise_r… │\n",
      "│ (Conv2D)            │ 32)               │         │                      │\n",
      "├─────────────────────┼───────────────────┼─────────┼──────────────────────┤\n",
      "│ block_4_project_BN  │ (None, 28, 28,    │     128 │ block_4_project[0][… │\n",
      "│ (BatchNormalizatio… │ 32)               │         │                      │\n",
      "├─────────────────────┼───────────────────┼─────────┼──────────────────────┤\n",
      "│ block_4_add (Add)   │ (None, 28, 28,    │       0 │ block_3_project_BN[… │\n",
      "│                     │ 32)               │         │ block_4_project_BN[… │\n",
      "├─────────────────────┼───────────────────┼─────────┼──────────────────────┤\n",
      "│ block_5_expand      │ (None, 28, 28,    │   6,144 │ block_4_add[0][0]    │\n",
      "│ (Conv2D)            │ 192)              │         │                      │\n",
      "├─────────────────────┼───────────────────┼─────────┼──────────────────────┤\n",
      "│ block_5_expand_BN   │ (None, 28, 28,    │     768 │ block_5_expand[0][0] │\n",
      "│ (BatchNormalizatio… │ 192)              │         │                      │\n",
      "├─────────────────────┼───────────────────┼─────────┼──────────────────────┤\n",
      "│ block_5_expand_relu │ (None, 28, 28,    │       0 │ block_5_expand_BN[0… │\n",
      "│ (ReLU)              │ 192)              │         │                      │\n",
      "├─────────────────────┼───────────────────┼─────────┼──────────────────────┤\n",
      "│ block_5_depthwise   │ (None, 28, 28,    │   1,728 │ block_5_expand_relu… │\n",
      "│ (DepthwiseConv2D)   │ 192)              │         │                      │\n",
      "├─────────────────────┼───────────────────┼─────────┼──────────────────────┤\n",
      "│ block_5_depthwise_… │ (None, 28, 28,    │     768 │ block_5_depthwise[0… │\n",
      "│ (BatchNormalizatio… │ 192)              │         │                      │\n",
      "├─────────────────────┼───────────────────┼─────────┼──────────────────────┤\n",
      "│ block_5_depthwise_… │ (None, 28, 28,    │       0 │ block_5_depthwise_B… │\n",
      "│ (ReLU)              │ 192)              │         │                      │\n",
      "├─────────────────────┼───────────────────┼─────────┼──────────────────────┤\n",
      "│ block_5_project     │ (None, 28, 28,    │   6,144 │ block_5_depthwise_r… │\n",
      "│ (Conv2D)            │ 32)               │         │                      │\n",
      "├─────────────────────┼───────────────────┼─────────┼──────────────────────┤\n",
      "│ block_5_project_BN  │ (None, 28, 28,    │     128 │ block_5_project[0][… │\n",
      "│ (BatchNormalizatio… │ 32)               │         │                      │\n",
      "├─────────────────────┼───────────────────┼─────────┼──────────────────────┤\n",
      "│ block_5_add (Add)   │ (None, 28, 28,    │       0 │ block_4_add[0][0],   │\n",
      "│                     │ 32)               │         │ block_5_project_BN[… │\n",
      "├─────────────────────┼───────────────────┼─────────┼──────────────────────┤\n",
      "│ block_6_expand      │ (None, 28, 28,    │   6,144 │ block_5_add[0][0]    │\n",
      "│ (Conv2D)            │ 192)              │         │                      │\n",
      "├─────────────────────┼───────────────────┼─────────┼──────────────────────┤\n",
      "│ block_6_expand_BN   │ (None, 28, 28,    │     768 │ block_6_expand[0][0] │\n",
      "│ (BatchNormalizatio… │ 192)              │         │                      │\n",
      "├─────────────────────┼───────────────────┼─────────┼──────────────────────┤\n",
      "│ block_6_expand_relu │ (None, 28, 28,    │       0 │ block_6_expand_BN[0… │\n",
      "│ (ReLU)              │ 192)              │         │                      │\n",
      "├─────────────────────┼───────────────────┼─────────┼──────────────────────┤\n",
      "│ block_6_pad         │ (None, 29, 29,    │       0 │ block_6_expand_relu… │\n",
      "│ (ZeroPadding2D)     │ 192)              │         │                      │\n",
      "├─────────────────────┼───────────────────┼─────────┼──────────────────────┤\n",
      "│ block_6_depthwise   │ (None, 14, 14,    │   1,728 │ block_6_pad[0][0]    │\n",
      "│ (DepthwiseConv2D)   │ 192)              │         │                      │\n",
      "├─────────────────────┼───────────────────┼─────────┼──────────────────────┤\n",
      "│ block_6_depthwise_… │ (None, 14, 14,    │     768 │ block_6_depthwise[0… │\n",
      "│ (BatchNormalizatio… │ 192)              │         │                      │\n",
      "├─────────────────────┼───────────────────┼─────────┼──────────────────────┤\n",
      "│ block_6_depthwise_… │ (None, 14, 14,    │       0 │ block_6_depthwise_B… │\n",
      "│ (ReLU)              │ 192)              │         │                      │\n",
      "├─────────────────────┼───────────────────┼─────────┼──────────────────────┤\n",
      "│ block_6_project     │ (None, 14, 14,    │  12,288 │ block_6_depthwise_r… │\n",
      "│ (Conv2D)            │ 64)               │         │                      │\n",
      "├─────────────────────┼───────────────────┼─────────┼──────────────────────┤\n",
      "│ block_6_project_BN  │ (None, 14, 14,    │     256 │ block_6_project[0][… │\n",
      "│ (BatchNormalizatio… │ 64)               │         │                      │\n",
      "├─────────────────────┼───────────────────┼─────────┼──────────────────────┤\n",
      "│ block_7_expand      │ (None, 14, 14,    │  24,576 │ block_6_project_BN[… │\n",
      "│ (Conv2D)            │ 384)              │         │                      │\n",
      "├─────────────────────┼───────────────────┼─────────┼──────────────────────┤\n",
      "│ block_7_expand_BN   │ (None, 14, 14,    │   1,536 │ block_7_expand[0][0] │\n",
      "│ (BatchNormalizatio… │ 384)              │         │                      │\n",
      "├─────────────────────┼───────────────────┼─────────┼──────────────────────┤\n",
      "│ block_7_expand_relu │ (None, 14, 14,    │       0 │ block_7_expand_BN[0… │\n",
      "│ (ReLU)              │ 384)              │         │                      │\n",
      "├─────────────────────┼───────────────────┼─────────┼──────────────────────┤\n",
      "│ block_7_depthwise   │ (None, 14, 14,    │   3,456 │ block_7_expand_relu… │\n",
      "│ (DepthwiseConv2D)   │ 384)              │         │                      │\n",
      "├─────────────────────┼───────────────────┼─────────┼──────────────────────┤\n",
      "│ block_7_depthwise_… │ (None, 14, 14,    │   1,536 │ block_7_depthwise[0… │\n",
      "│ (BatchNormalizatio… │ 384)              │         │                      │\n",
      "├─────────────────────┼───────────────────┼─────────┼──────────────────────┤\n",
      "│ block_7_depthwise_… │ (None, 14, 14,    │       0 │ block_7_depthwise_B… │\n",
      "│ (ReLU)              │ 384)              │         │                      │\n",
      "├─────────────────────┼───────────────────┼─────────┼──────────────────────┤\n",
      "│ block_7_project     │ (None, 14, 14,    │  24,576 │ block_7_depthwise_r… │\n",
      "│ (Conv2D)            │ 64)               │         │                      │\n",
      "├─────────────────────┼───────────────────┼─────────┼──────────────────────┤\n",
      "│ block_7_project_BN  │ (None, 14, 14,    │     256 │ block_7_project[0][… │\n",
      "│ (BatchNormalizatio… │ 64)               │         │                      │\n",
      "├─────────────────────┼───────────────────┼─────────┼──────────────────────┤\n",
      "│ block_7_add (Add)   │ (None, 14, 14,    │       0 │ block_6_project_BN[… │\n",
      "│                     │ 64)               │         │ block_7_project_BN[… │\n",
      "├─────────────────────┼───────────────────┼─────────┼──────────────────────┤\n",
      "│ block_8_expand      │ (None, 14, 14,    │  24,576 │ block_7_add[0][0]    │\n",
      "│ (Conv2D)            │ 384)              │         │                      │\n",
      "├─────────────────────┼───────────────────┼─────────┼──────────────────────┤\n",
      "│ block_8_expand_BN   │ (None, 14, 14,    │   1,536 │ block_8_expand[0][0] │\n",
      "│ (BatchNormalizatio… │ 384)              │         │                      │\n",
      "├─────────────────────┼───────────────────┼─────────┼──────────────────────┤\n",
      "│ block_8_expand_relu │ (None, 14, 14,    │       0 │ block_8_expand_BN[0… │\n",
      "│ (ReLU)              │ 384)              │         │                      │\n",
      "├─────────────────────┼───────────────────┼─────────┼──────────────────────┤\n",
      "│ block_8_depthwise   │ (None, 14, 14,    │   3,456 │ block_8_expand_relu… │\n",
      "│ (DepthwiseConv2D)   │ 384)              │         │                      │\n",
      "├─────────────────────┼───────────────────┼─────────┼──────────────────────┤\n",
      "│ block_8_depthwise_… │ (None, 14, 14,    │   1,536 │ block_8_depthwise[0… │\n",
      "│ (BatchNormalizatio… │ 384)              │         │                      │\n",
      "├─────────────────────┼───────────────────┼─────────┼──────────────────────┤\n",
      "│ block_8_depthwise_… │ (None, 14, 14,    │       0 │ block_8_depthwise_B… │\n",
      "│ (ReLU)              │ 384)              │         │                      │\n",
      "├─────────────────────┼───────────────────┼─────────┼──────────────────────┤\n",
      "│ block_8_project     │ (None, 14, 14,    │  24,576 │ block_8_depthwise_r… │\n",
      "│ (Conv2D)            │ 64)               │         │                      │\n",
      "├─────────────────────┼───────────────────┼─────────┼──────────────────────┤\n",
      "│ block_8_project_BN  │ (None, 14, 14,    │     256 │ block_8_project[0][… │\n",
      "│ (BatchNormalizatio… │ 64)               │         │                      │\n",
      "├─────────────────────┼───────────────────┼─────────┼──────────────────────┤\n",
      "│ block_8_add (Add)   │ (None, 14, 14,    │       0 │ block_7_add[0][0],   │\n",
      "│                     │ 64)               │         │ block_8_project_BN[… │\n",
      "├─────────────────────┼───────────────────┼─────────┼──────────────────────┤\n",
      "│ block_9_expand      │ (None, 14, 14,    │  24,576 │ block_8_add[0][0]    │\n",
      "│ (Conv2D)            │ 384)              │         │                      │\n",
      "├─────────────────────┼───────────────────┼─────────┼──────────────────────┤\n",
      "│ block_9_expand_BN   │ (None, 14, 14,    │   1,536 │ block_9_expand[0][0] │\n",
      "│ (BatchNormalizatio… │ 384)              │         │                      │\n",
      "├─────────────────────┼───────────────────┼─────────┼──────────────────────┤\n",
      "│ block_9_expand_relu │ (None, 14, 14,    │       0 │ block_9_expand_BN[0… │\n",
      "│ (ReLU)              │ 384)              │         │                      │\n",
      "├─────────────────────┼───────────────────┼─────────┼──────────────────────┤\n",
      "│ block_9_depthwise   │ (None, 14, 14,    │   3,456 │ block_9_expand_relu… │\n",
      "│ (DepthwiseConv2D)   │ 384)              │         │                      │\n",
      "├─────────────────────┼───────────────────┼─────────┼──────────────────────┤\n",
      "│ block_9_depthwise_… │ (None, 14, 14,    │   1,536 │ block_9_depthwise[0… │\n",
      "│ (BatchNormalizatio… │ 384)              │         │                      │\n",
      "├─────────────────────┼───────────────────┼─────────┼──────────────────────┤\n",
      "│ block_9_depthwise_… │ (None, 14, 14,    │       0 │ block_9_depthwise_B… │\n",
      "│ (ReLU)              │ 384)              │         │                      │\n",
      "├─────────────────────┼───────────────────┼─────────┼──────────────────────┤\n",
      "│ block_9_project     │ (None, 14, 14,    │  24,576 │ block_9_depthwise_r… │\n",
      "│ (Conv2D)            │ 64)               │         │                      │\n",
      "├─────────────────────┼───────────────────┼─────────┼──────────────────────┤\n",
      "│ block_9_project_BN  │ (None, 14, 14,    │     256 │ block_9_project[0][… │\n",
      "│ (BatchNormalizatio… │ 64)               │         │                      │\n",
      "├─────────────────────┼───────────────────┼─────────┼──────────────────────┤\n",
      "│ block_9_add (Add)   │ (None, 14, 14,    │       0 │ block_8_add[0][0],   │\n",
      "│                     │ 64)               │         │ block_9_project_BN[… │\n",
      "├─────────────────────┼───────────────────┼─────────┼──────────────────────┤\n",
      "│ block_10_expand     │ (None, 14, 14,    │  24,576 │ block_9_add[0][0]    │\n",
      "│ (Conv2D)            │ 384)              │         │                      │\n",
      "├─────────────────────┼───────────────────┼─────────┼──────────────────────┤\n",
      "│ block_10_expand_BN  │ (None, 14, 14,    │   1,536 │ block_10_expand[0][… │\n",
      "│ (BatchNormalizatio… │ 384)              │         │                      │\n",
      "├─────────────────────┼───────────────────┼─────────┼──────────────────────┤\n",
      "│ block_10_expand_re… │ (None, 14, 14,    │       0 │ block_10_expand_BN[… │\n",
      "│ (ReLU)              │ 384)              │         │                      │\n",
      "├─────────────────────┼───────────────────┼─────────┼──────────────────────┤\n",
      "│ block_10_depthwise  │ (None, 14, 14,    │   3,456 │ block_10_expand_rel… │\n",
      "│ (DepthwiseConv2D)   │ 384)              │         │                      │\n",
      "├─────────────────────┼───────────────────┼─────────┼──────────────────────┤\n",
      "│ block_10_depthwise… │ (None, 14, 14,    │   1,536 │ block_10_depthwise[… │\n",
      "│ (BatchNormalizatio… │ 384)              │         │                      │\n",
      "├─────────────────────┼───────────────────┼─────────┼──────────────────────┤\n",
      "│ block_10_depthwise… │ (None, 14, 14,    │       0 │ block_10_depthwise_… │\n",
      "│ (ReLU)              │ 384)              │         │                      │\n",
      "├─────────────────────┼───────────────────┼─────────┼──────────────────────┤\n",
      "│ block_10_project    │ (None, 14, 14,    │  36,864 │ block_10_depthwise_… │\n",
      "│ (Conv2D)            │ 96)               │         │                      │\n",
      "├─────────────────────┼───────────────────┼─────────┼──────────────────────┤\n",
      "│ block_10_project_BN │ (None, 14, 14,    │     384 │ block_10_project[0]… │\n",
      "│ (BatchNormalizatio… │ 96)               │         │                      │\n",
      "├─────────────────────┼───────────────────┼─────────┼──────────────────────┤\n",
      "│ block_11_expand     │ (None, 14, 14,    │  55,296 │ block_10_project_BN… │\n",
      "│ (Conv2D)            │ 576)              │         │                      │\n",
      "├─────────────────────┼───────────────────┼─────────┼──────────────────────┤\n",
      "│ block_11_expand_BN  │ (None, 14, 14,    │   2,304 │ block_11_expand[0][… │\n",
      "│ (BatchNormalizatio… │ 576)              │         │                      │\n",
      "├─────────────────────┼───────────────────┼─────────┼──────────────────────┤\n",
      "│ block_11_expand_re… │ (None, 14, 14,    │       0 │ block_11_expand_BN[… │\n",
      "│ (ReLU)              │ 576)              │         │                      │\n",
      "├─────────────────────┼───────────────────┼─────────┼──────────────────────┤\n",
      "│ block_11_depthwise  │ (None, 14, 14,    │   5,184 │ block_11_expand_rel… │\n",
      "│ (DepthwiseConv2D)   │ 576)              │         │                      │\n",
      "├─────────────────────┼───────────────────┼─────────┼──────────────────────┤\n",
      "│ block_11_depthwise… │ (None, 14, 14,    │   2,304 │ block_11_depthwise[… │\n",
      "│ (BatchNormalizatio… │ 576)              │         │                      │\n",
      "├─────────────────────┼───────────────────┼─────────┼──────────────────────┤\n",
      "│ block_11_depthwise… │ (None, 14, 14,    │       0 │ block_11_depthwise_… │\n",
      "│ (ReLU)              │ 576)              │         │                      │\n",
      "├─────────────────────┼───────────────────┼─────────┼──────────────────────┤\n",
      "│ block_11_project    │ (None, 14, 14,    │  55,296 │ block_11_depthwise_… │\n",
      "│ (Conv2D)            │ 96)               │         │                      │\n",
      "├─────────────────────┼───────────────────┼─────────┼──────────────────────┤\n",
      "│ block_11_project_BN │ (None, 14, 14,    │     384 │ block_11_project[0]… │\n",
      "│ (BatchNormalizatio… │ 96)               │         │                      │\n",
      "├─────────────────────┼───────────────────┼─────────┼──────────────────────┤\n",
      "│ block_11_add (Add)  │ (None, 14, 14,    │       0 │ block_10_project_BN… │\n",
      "│                     │ 96)               │         │ block_11_project_BN… │\n",
      "├─────────────────────┼───────────────────┼─────────┼──────────────────────┤\n",
      "│ block_12_expand     │ (None, 14, 14,    │  55,296 │ block_11_add[0][0]   │\n",
      "│ (Conv2D)            │ 576)              │         │                      │\n",
      "├─────────────────────┼───────────────────┼─────────┼──────────────────────┤\n",
      "│ block_12_expand_BN  │ (None, 14, 14,    │   2,304 │ block_12_expand[0][… │\n",
      "│ (BatchNormalizatio… │ 576)              │         │                      │\n",
      "├─────────────────────┼───────────────────┼─────────┼──────────────────────┤\n",
      "│ block_12_expand_re… │ (None, 14, 14,    │       0 │ block_12_expand_BN[… │\n",
      "│ (ReLU)              │ 576)              │         │                      │\n",
      "├─────────────────────┼───────────────────┼─────────┼──────────────────────┤\n",
      "│ block_12_depthwise  │ (None, 14, 14,    │   5,184 │ block_12_expand_rel… │\n",
      "│ (DepthwiseConv2D)   │ 576)              │         │                      │\n",
      "├─────────────────────┼───────────────────┼─────────┼──────────────────────┤\n",
      "│ block_12_depthwise… │ (None, 14, 14,    │   2,304 │ block_12_depthwise[… │\n",
      "│ (BatchNormalizatio… │ 576)              │         │                      │\n",
      "├─────────────────────┼───────────────────┼─────────┼──────────────────────┤\n",
      "│ block_12_depthwise… │ (None, 14, 14,    │       0 │ block_12_depthwise_… │\n",
      "│ (ReLU)              │ 576)              │         │                      │\n",
      "├─────────────────────┼───────────────────┼─────────┼──────────────────────┤\n",
      "│ block_12_project    │ (None, 14, 14,    │  55,296 │ block_12_depthwise_… │\n",
      "│ (Conv2D)            │ 96)               │         │                      │\n",
      "├─────────────────────┼───────────────────┼─────────┼──────────────────────┤\n",
      "│ block_12_project_BN │ (None, 14, 14,    │     384 │ block_12_project[0]… │\n",
      "│ (BatchNormalizatio… │ 96)               │         │                      │\n",
      "├─────────────────────┼───────────────────┼─────────┼──────────────────────┤\n",
      "│ block_12_add (Add)  │ (None, 14, 14,    │       0 │ block_11_add[0][0],  │\n",
      "│                     │ 96)               │         │ block_12_project_BN… │\n",
      "├─────────────────────┼───────────────────┼─────────┼──────────────────────┤\n",
      "│ block_13_expand     │ (None, 14, 14,    │  55,296 │ block_12_add[0][0]   │\n",
      "│ (Conv2D)            │ 576)              │         │                      │\n",
      "├─────────────────────┼───────────────────┼─────────┼──────────────────────┤\n",
      "│ block_13_expand_BN  │ (None, 14, 14,    │   2,304 │ block_13_expand[0][… │\n",
      "│ (BatchNormalizatio… │ 576)              │         │                      │\n",
      "├─────────────────────┼───────────────────┼─────────┼──────────────────────┤\n",
      "│ block_13_expand_re… │ (None, 14, 14,    │       0 │ block_13_expand_BN[… │\n",
      "│ (ReLU)              │ 576)              │         │                      │\n",
      "├─────────────────────┼───────────────────┼─────────┼──────────────────────┤\n",
      "│ block_13_pad        │ (None, 15, 15,    │       0 │ block_13_expand_rel… │\n",
      "│ (ZeroPadding2D)     │ 576)              │         │                      │\n",
      "├─────────────────────┼───────────────────┼─────────┼──────────────────────┤\n",
      "│ block_13_depthwise  │ (None, 7, 7, 576) │   5,184 │ block_13_pad[0][0]   │\n",
      "│ (DepthwiseConv2D)   │                   │         │                      │\n",
      "├─────────────────────┼───────────────────┼─────────┼──────────────────────┤\n",
      "│ block_13_depthwise… │ (None, 7, 7, 576) │   2,304 │ block_13_depthwise[… │\n",
      "│ (BatchNormalizatio… │                   │         │                      │\n",
      "├─────────────────────┼───────────────────┼─────────┼──────────────────────┤\n",
      "│ block_13_depthwise… │ (None, 7, 7, 576) │       0 │ block_13_depthwise_… │\n",
      "│ (ReLU)              │                   │         │                      │\n",
      "├─────────────────────┼───────────────────┼─────────┼──────────────────────┤\n",
      "│ block_13_project    │ (None, 7, 7, 160) │  92,160 │ block_13_depthwise_… │\n",
      "│ (Conv2D)            │                   │         │                      │\n",
      "├─────────────────────┼───────────────────┼─────────┼──────────────────────┤\n",
      "│ block_13_project_BN │ (None, 7, 7, 160) │     640 │ block_13_project[0]… │\n",
      "│ (BatchNormalizatio… │                   │         │                      │\n",
      "├─────────────────────┼───────────────────┼─────────┼──────────────────────┤\n",
      "│ block_14_expand     │ (None, 7, 7, 960) │ 153,600 │ block_13_project_BN… │\n",
      "│ (Conv2D)            │                   │         │                      │\n",
      "├─────────────────────┼───────────────────┼─────────┼──────────────────────┤\n",
      "│ block_14_expand_BN  │ (None, 7, 7, 960) │   3,840 │ block_14_expand[0][… │\n",
      "│ (BatchNormalizatio… │                   │         │                      │\n",
      "├─────────────────────┼───────────────────┼─────────┼──────────────────────┤\n",
      "│ block_14_expand_re… │ (None, 7, 7, 960) │       0 │ block_14_expand_BN[… │\n",
      "│ (ReLU)              │                   │         │                      │\n",
      "├─────────────────────┼───────────────────┼─────────┼──────────────────────┤\n",
      "│ block_14_depthwise  │ (None, 7, 7, 960) │   8,640 │ block_14_expand_rel… │\n",
      "│ (DepthwiseConv2D)   │                   │         │                      │\n",
      "├─────────────────────┼───────────────────┼─────────┼──────────────────────┤\n",
      "│ block_14_depthwise… │ (None, 7, 7, 960) │   3,840 │ block_14_depthwise[… │\n",
      "│ (BatchNormalizatio… │                   │         │                      │\n",
      "├─────────────────────┼───────────────────┼─────────┼──────────────────────┤\n",
      "│ block_14_depthwise… │ (None, 7, 7, 960) │       0 │ block_14_depthwise_… │\n",
      "│ (ReLU)              │                   │         │                      │\n",
      "├─────────────────────┼───────────────────┼─────────┼──────────────────────┤\n",
      "│ block_14_project    │ (None, 7, 7, 160) │ 153,600 │ block_14_depthwise_… │\n",
      "│ (Conv2D)            │                   │         │                      │\n",
      "├─────────────────────┼───────────────────┼─────────┼──────────────────────┤\n",
      "│ block_14_project_BN │ (None, 7, 7, 160) │     640 │ block_14_project[0]… │\n",
      "│ (BatchNormalizatio… │                   │         │                      │\n",
      "├─────────────────────┼───────────────────┼─────────┼──────────────────────┤\n",
      "│ block_14_add (Add)  │ (None, 7, 7, 160) │       0 │ block_13_project_BN… │\n",
      "│                     │                   │         │ block_14_project_BN… │\n",
      "├─────────────────────┼───────────────────┼─────────┼──────────────────────┤\n",
      "│ block_15_expand     │ (None, 7, 7, 960) │ 153,600 │ block_14_add[0][0]   │\n",
      "│ (Conv2D)            │                   │         │                      │\n",
      "├─────────────────────┼───────────────────┼─────────┼──────────────────────┤\n",
      "│ block_15_expand_BN  │ (None, 7, 7, 960) │   3,840 │ block_15_expand[0][… │\n",
      "│ (BatchNormalizatio… │                   │         │                      │\n",
      "├─────────────────────┼───────────────────┼─────────┼──────────────────────┤\n",
      "│ block_15_expand_re… │ (None, 7, 7, 960) │       0 │ block_15_expand_BN[… │\n",
      "│ (ReLU)              │                   │         │                      │\n",
      "├─────────────────────┼───────────────────┼─────────┼──────────────────────┤\n",
      "│ block_15_depthwise  │ (None, 7, 7, 960) │   8,640 │ block_15_expand_rel… │\n",
      "│ (DepthwiseConv2D)   │                   │         │                      │\n",
      "├─────────────────────┼───────────────────┼─────────┼──────────────────────┤\n",
      "│ block_15_depthwise… │ (None, 7, 7, 960) │   3,840 │ block_15_depthwise[… │\n",
      "│ (BatchNormalizatio… │                   │         │                      │\n",
      "├─────────────────────┼───────────────────┼─────────┼──────────────────────┤\n",
      "│ block_15_depthwise… │ (None, 7, 7, 960) │       0 │ block_15_depthwise_… │\n",
      "│ (ReLU)              │                   │         │                      │\n",
      "├─────────────────────┼───────────────────┼─────────┼──────────────────────┤\n",
      "│ block_15_project    │ (None, 7, 7, 160) │ 153,600 │ block_15_depthwise_… │\n",
      "│ (Conv2D)            │                   │         │                      │\n",
      "├─────────────────────┼───────────────────┼─────────┼──────────────────────┤\n",
      "│ block_15_project_BN │ (None, 7, 7, 160) │     640 │ block_15_project[0]… │\n",
      "│ (BatchNormalizatio… │                   │         │                      │\n",
      "├─────────────────────┼───────────────────┼─────────┼──────────────────────┤\n",
      "│ block_15_add (Add)  │ (None, 7, 7, 160) │       0 │ block_14_add[0][0],  │\n",
      "│                     │                   │         │ block_15_project_BN… │\n",
      "├─────────────────────┼───────────────────┼─────────┼──────────────────────┤\n",
      "│ block_16_expand     │ (None, 7, 7, 960) │ 153,600 │ block_15_add[0][0]   │\n",
      "│ (Conv2D)            │                   │         │                      │\n",
      "├─────────────────────┼───────────────────┼─────────┼──────────────────────┤\n",
      "│ block_16_expand_BN  │ (None, 7, 7, 960) │   3,840 │ block_16_expand[0][… │\n",
      "│ (BatchNormalizatio… │                   │         │                      │\n",
      "├─────────────────────┼───────────────────┼─────────┼──────────────────────┤\n",
      "│ block_16_expand_re… │ (None, 7, 7, 960) │       0 │ block_16_expand_BN[… │\n",
      "│ (ReLU)              │                   │         │                      │\n",
      "├─────────────────────┼───────────────────┼─────────┼──────────────────────┤\n",
      "│ block_16_depthwise  │ (None, 7, 7, 960) │   8,640 │ block_16_expand_rel… │\n",
      "│ (DepthwiseConv2D)   │                   │         │                      │\n",
      "├─────────────────────┼───────────────────┼─────────┼──────────────────────┤\n",
      "│ block_16_depthwise… │ (None, 7, 7, 960) │   3,840 │ block_16_depthwise[… │\n",
      "│ (BatchNormalizatio… │                   │         │                      │\n",
      "├─────────────────────┼───────────────────┼─────────┼──────────────────────┤\n",
      "│ block_16_depthwise… │ (None, 7, 7, 960) │       0 │ block_16_depthwise_… │\n",
      "│ (ReLU)              │                   │         │                      │\n",
      "├─────────────────────┼───────────────────┼─────────┼──────────────────────┤\n",
      "│ block_16_project    │ (None, 7, 7, 320) │ 307,200 │ block_16_depthwise_… │\n",
      "│ (Conv2D)            │                   │         │                      │\n",
      "├─────────────────────┼───────────────────┼─────────┼──────────────────────┤\n",
      "│ block_16_project_BN │ (None, 7, 7, 320) │   1,280 │ block_16_project[0]… │\n",
      "│ (BatchNormalizatio… │                   │         │                      │\n",
      "├─────────────────────┼───────────────────┼─────────┼──────────────────────┤\n",
      "│ Conv_1 (Conv2D)     │ (None, 7, 7,      │ 409,600 │ block_16_project_BN… │\n",
      "│                     │ 1280)             │         │                      │\n",
      "├─────────────────────┼───────────────────┼─────────┼──────────────────────┤\n",
      "│ Conv_1_bn           │ (None, 7, 7,      │   5,120 │ Conv_1[0][0]         │\n",
      "│ (BatchNormalizatio… │ 1280)             │         │                      │\n",
      "├─────────────────────┼───────────────────┼─────────┼──────────────────────┤\n",
      "│ out_relu (ReLU)     │ (None, 7, 7,      │       0 │ Conv_1_bn[0][0]      │\n",
      "│                     │ 1280)             │         │                      │\n",
      "├─────────────────────┼───────────────────┼─────────┼──────────────────────┤\n",
      "│ global_average_poo… │ (None, 1280)      │       0 │ out_relu[0][0]       │\n",
      "│ (GlobalAveragePool… │                   │         │                      │\n",
      "└─────────────────────┴───────────────────┴─────────┴──────────────────────┘\n",
      " Total params: 2,257,984 (8.61 MB)\n",
      " Trainable params: 2,223,872 (8.48 MB)\n",
      " Non-trainable params: 34,112 (133.25 KB)"
     ]
    }
   ],
   "source": [
    "new_model.summary()"
   ]
  },
  {
   "cell_type": "markdown",
   "id": "3a86f711-8a32-4fc5-94d9-4f0c5199c014",
   "metadata": {},
   "source": [
    "> importation des poids du modèle vers les executors"
   ]
  },
  {
   "cell_type": "code",
   "execution_count": 15,
   "id": "be8fe2b9",
   "metadata": {},
   "outputs": [
    {
     "data": {
      "application/vnd.jupyter.widget-view+json": {
       "model_id": "",
       "version_major": 2,
       "version_minor": 0
      },
      "text/plain": [
       "FloatProgress(value=0.0, bar_style='info', description='Progress:', layout=Layout(height='25px', width='50%'),…"
      ]
     },
     "metadata": {},
     "output_type": "display_data"
    }
   ],
   "source": [
    "def model_fn():\n",
    "    \"\"\"\n",
    "    Returns a MobileNetV2 model with top layer removed \n",
    "    and broadcasted pretrained weights.\n",
    "    \"\"\"\n",
    "    model = MobileNetV2(weights='imagenet',\n",
    "                        include_top=True,\n",
    "                        input_shape=(224, 224, 3))\n",
    "    for layer in model.layers:\n",
    "        layer.trainable = False\n",
    "    new_model = Model(inputs=model.input,\n",
    "                  outputs=model.layers[-2].output)\n",
    "    new_model.set_weights(brodcast_weights.value)\n",
    "    return new_model"
   ]
  },
  {
   "cell_type": "markdown",
   "id": "c032f135",
   "metadata": {},
   "source": [
    "# Définition du processus de chargement des images <br> et application de leur featurisation à travers l'utilisation de pandas UDF"
   ]
  },
  {
   "cell_type": "code",
   "execution_count": 16,
   "id": "933100cf",
   "metadata": {
    "scrolled": true
   },
   "outputs": [
    {
     "data": {
      "application/vnd.jupyter.widget-view+json": {
       "model_id": "",
       "version_major": 2,
       "version_minor": 0
      },
      "text/plain": [
       "FloatProgress(value=0.0, bar_style='info', description='Progress:', layout=Layout(height='25px', width='50%'),…"
      ]
     },
     "metadata": {},
     "output_type": "display_data"
    },
    {
     "name": "stdout",
     "output_type": "stream",
     "text": [
      "/mnt1/yarn/usercache/livy/appcache/application_1739197324002_0001/container_1739197324002_0001_01_000001/pyspark.zip/pyspark/sql/pandas/functions.py:407: UserWarning: In Python 3.6+ and Spark 3.0+, it is preferred to specify type hints for pandas UDF instead of specifying pandas UDF type which will be deprecated in the future releases. See SPARK-28264 for more details."
     ]
    }
   ],
   "source": [
    "def preprocess(content):\n",
    "    \"\"\"\n",
    "    Preprocesses raw image bytes for prediction.\n",
    "    \"\"\"\n",
    "    img = Image.open(io.BytesIO(content)).resize([224, 224])\n",
    "    arr = img_to_array(img)\n",
    "    return preprocess_input(arr)\n",
    "\n",
    "def featurize_series(model, content_series):\n",
    "    \"\"\"\n",
    "    Featurize a pd.Series of raw images using the input model.\n",
    "    :return: a pd.Series of image features\n",
    "    \"\"\"\n",
    "    input = np.stack(content_series.map(preprocess))\n",
    "    preds = model.predict(input)\n",
    "    # For some layers, output features will be multi-dimensional tensors.\n",
    "    # We flatten the feature tensors to vectors for easier storage in Spark DataFrames.\n",
    "    output = [p.flatten() for p in preds]\n",
    "    return pd.Series(output)\n",
    "\n",
    "@pandas_udf('array<float>', PandasUDFType.SCALAR_ITER)\n",
    "def featurize_udf(content_series_iter):\n",
    "    '''\n",
    "    This method is a Scalar Iterator pandas UDF wrapping our featurization function.\n",
    "    The decorator specifies that this returns a Spark DataFrame column of type ArrayType(FloatType).\n",
    "\n",
    "    :param content_series_iter: This argument is an iterator over batches of data, where each batch\n",
    "                              is a pandas Series of image data.\n",
    "    '''\n",
    "    # With Scalar Iterator pandas UDFs, we can load the model once and then re-use it\n",
    "    # for multiple data batches.  This amortizes the overhead of loading big models.\n",
    "    model = model_fn()\n",
    "    for content_series in content_series_iter:\n",
    "        yield featurize_series(model, content_series)"
   ]
  },
  {
   "cell_type": "markdown",
   "id": "f23206e8",
   "metadata": {},
   "source": [
    "## Exécutions des actions d'extractions de features"
   ]
  },
  {
   "cell_type": "markdown",
   "id": "c8e62d02-647f-4808-afda-6c634e44f883",
   "metadata": {},
   "source": [
    "> Limitation des enregistrements pour alleger l'espace mémoire"
   ]
  },
  {
   "cell_type": "code",
   "execution_count": 17,
   "id": "22d760c2",
   "metadata": {},
   "outputs": [
    {
     "data": {
      "application/vnd.jupyter.widget-view+json": {
       "model_id": "",
       "version_major": 2,
       "version_minor": 0
      },
      "text/plain": [
       "FloatProgress(value=0.0, bar_style='info', description='Progress:', layout=Layout(height='25px', width='50%'),…"
      ]
     },
     "metadata": {},
     "output_type": "display_data"
    }
   ],
   "source": [
    "spark.conf.set(\"spark.sql.execution.arrow.maxRecordsPerBatch\", \"1024\")"
   ]
  },
  {
   "cell_type": "code",
   "execution_count": 18,
   "id": "5e07fd68",
   "metadata": {},
   "outputs": [
    {
     "data": {
      "application/vnd.jupyter.widget-view+json": {
       "model_id": "",
       "version_major": 2,
       "version_minor": 0
      },
      "text/plain": [
       "FloatProgress(value=0.0, bar_style='info', description='Progress:', layout=Layout(height='25px', width='50%'),…"
      ]
     },
     "metadata": {},
     "output_type": "display_data"
    }
   ],
   "source": [
    "features_df = images.repartition(24).select(col(\"path\"),\n",
    "                                            col(\"label\"),\n",
    "                                            featurize_udf(\"content\").alias(\"features\")\n",
    "                                           )"
   ]
  },
  {
   "cell_type": "code",
   "execution_count": 19,
   "id": "06a930b3",
   "metadata": {},
   "outputs": [
    {
     "data": {
      "application/vnd.jupyter.widget-view+json": {
       "model_id": "",
       "version_major": 2,
       "version_minor": 0
      },
      "text/plain": [
       "FloatProgress(value=0.0, bar_style='info', description='Progress:', layout=Layout(height='25px', width='50%'),…"
      ]
     },
     "metadata": {},
     "output_type": "display_data"
    },
    {
     "name": "stdout",
     "output_type": "stream",
     "text": [
      "s3://ocp9-fr-data/Results"
     ]
    }
   ],
   "source": [
    "print(PATH_Result)"
   ]
  },
  {
   "cell_type": "markdown",
   "id": "7afc35c7",
   "metadata": {},
   "source": [
    "# PCA "
   ]
  },
  {
   "cell_type": "markdown",
   "id": "3a10eaa4",
   "metadata": {},
   "source": [
    "## Première étape, on transforme les features du format array vers vectorUDT"
   ]
  },
  {
   "cell_type": "code",
   "execution_count": 20,
   "id": "7aa5e318",
   "metadata": {},
   "outputs": [
    {
     "data": {
      "application/vnd.jupyter.widget-view+json": {
       "model_id": "",
       "version_major": 2,
       "version_minor": 0
      },
      "text/plain": [
       "FloatProgress(value=0.0, bar_style='info', description='Progress:', layout=Layout(height='25px', width='50%'),…"
      ]
     },
     "metadata": {},
     "output_type": "display_data"
    },
    {
     "name": "stdout",
     "output_type": "stream",
     "text": [
      "root\n",
      " |-- path: string (nullable = true)\n",
      " |-- label: string (nullable = true)\n",
      " |-- features: array (nullable = true)\n",
      " |    |-- element: float (containsNull = true)\n",
      " |-- vectorizedFeatures: vector (nullable = true)\n",
      "\n",
      "None"
     ]
    }
   ],
   "source": [
    "conv2Vec = udf(lambda vs: Vectors.dense(vs), VectorUDT())\n",
    "features_df = features_df.withColumn('vectorizedFeatures', conv2Vec(features_df['features']))\n",
    "print(features_df.printSchema())"
   ]
  },
  {
   "cell_type": "markdown",
   "id": "074fe90f",
   "metadata": {},
   "source": [
    "## Deuxième étape on réalise l'ACP\n",
    "> on créé un Pipe qui execute un standard scaler puis lance l'ACP "
   ]
  },
  {
   "cell_type": "code",
   "execution_count": 21,
   "id": "e1f8ee83",
   "metadata": {},
   "outputs": [
    {
     "data": {
      "application/vnd.jupyter.widget-view+json": {
       "model_id": "",
       "version_major": 2,
       "version_minor": 0
      },
      "text/plain": [
       "FloatProgress(value=0.0, bar_style='info', description='Progress:', layout=Layout(height='25px', width='50%'),…"
      ]
     },
     "metadata": {},
     "output_type": "display_data"
    },
    {
     "name": "stdout",
     "output_type": "stream",
     "text": [
      "root\n",
      " |-- path: string (nullable = true)\n",
      " |-- label: string (nullable = true)\n",
      " |-- features: array (nullable = true)\n",
      " |    |-- element: float (containsNull = true)\n",
      " |-- vectorizedFeatures: vector (nullable = true)\n",
      " |-- scaledFeatures: vector (nullable = true)\n",
      " |-- pcaFeatures: vector (nullable = true)\n",
      "\n",
      "None"
     ]
    }
   ],
   "source": [
    "scaler = StandardScaler().setInputCol(\"vectorizedFeatures\").setOutputCol(\"scaledFeatures\") \\\n",
    "                         .setWithStd(False).setWithMean(True)\n",
    "pca_features = PCA(k=2).setInputCol(\"scaledFeatures\").setOutputCol(\"pcaFeatures\")\n",
    "pipeline = Pipeline(stages=[scaler , pca_features])\n",
    "pcaModel = pipeline.fit(features_df)\n",
    "features_df = pcaModel.transform(features_df)\n",
    "print(features_df.printSchema())"
   ]
  },
  {
   "cell_type": "markdown",
   "id": "82bb1cea-4277-4fbc-81bc-78f061efe12e",
   "metadata": {},
   "source": [
    "# Sauvegarde des données au format CSV"
   ]
  },
  {
   "cell_type": "code",
   "execution_count": 32,
   "id": "1b98289f",
   "metadata": {},
   "outputs": [
    {
     "data": {
      "application/vnd.jupyter.widget-view+json": {
       "model_id": "",
       "version_major": 2,
       "version_minor": 0
      },
      "text/plain": [
       "FloatProgress(value=0.0, bar_style='info', description='Progress:', layout=Layout(height='25px', width='50%'),…"
      ]
     },
     "metadata": {},
     "output_type": "display_data"
    }
   ],
   "source": [
    "features_df.select(col(\"path\"),col(\"label\"),col(\"pcaFeatures\")).toPandas().to_csv(PATH_Result+\"/Sortie_Pipeline.csv\")"
   ]
  },
  {
   "cell_type": "markdown",
   "id": "f6cd98f9-a27d-4a4d-aea2-016886e498dd",
   "metadata": {},
   "source": [
    "# On verifie la conformité des données en sortie"
   ]
  },
  {
   "cell_type": "code",
   "execution_count": 33,
   "id": "29be106f",
   "metadata": {},
   "outputs": [
    {
     "data": {
      "application/vnd.jupyter.widget-view+json": {
       "model_id": "",
       "version_major": 2,
       "version_minor": 0
      },
      "text/plain": [
       "FloatProgress(value=0.0, bar_style='info', description='Progress:', layout=Layout(height='25px', width='50%'),…"
      ]
     },
     "metadata": {},
     "output_type": "display_data"
    }
   ],
   "source": [
    "df = features_df.select(col(\"path\"),col(\"label\"),col(\"pcaFeatures\")).toPandas()"
   ]
  },
  {
   "cell_type": "code",
   "execution_count": 34,
   "id": "61e706a0",
   "metadata": {},
   "outputs": [
    {
     "data": {
      "application/vnd.jupyter.widget-view+json": {
       "model_id": "",
       "version_major": 2,
       "version_minor": 0
      },
      "text/plain": [
       "FloatProgress(value=0.0, bar_style='info', description='Progress:', layout=Layout(height='25px', width='50%'),…"
      ]
     },
     "metadata": {},
     "output_type": "display_data"
    },
    {
     "name": "stdout",
     "output_type": "stream",
     "text": [
      "(300, 3)"
     ]
    }
   ],
   "source": [
    "df.shape"
   ]
  },
  {
   "cell_type": "code",
   "execution_count": 35,
   "id": "eecaf468",
   "metadata": {},
   "outputs": [
    {
     "data": {
      "application/vnd.jupyter.widget-view+json": {
       "model_id": "",
       "version_major": 2,
       "version_minor": 0
      },
      "text/plain": [
       "FloatProgress(value=0.0, bar_style='info', description='Progress:', layout=Layout(height='25px', width='50%'),…"
      ]
     },
     "metadata": {},
     "output_type": "display_data"
    },
    {
     "name": "stdout",
     "output_type": "stream",
     "text": [
      "                                                path  ...                                pcaFeatures\n",
      "0      s3://ocp9-fr-data/Test/Tomato Heart/2_100.jpg  ...  [-0.13212825757922453, 4.880532664700052]\n",
      "1          s3://ocp9-fr-data/Test/Tangelo/10_100.jpg  ...         [5.42032315964, 2.899499244312785]\n",
      "2  s3://ocp9-fr-data/Test/Tomato not Ripened/25_1...  ...    [11.352458808635163, 7.531871909516764]\n",
      "3     s3://ocp9-fr-data/Test/Tomato Heart/15_100.jpg  ...   [-0.5482383898331199, 6.131384896541967]\n",
      "4          s3://ocp9-fr-data/Test/Tomato 4/7_100.jpg  ...  [-3.1473057326550005, -9.153188831181625]\n",
      "\n",
      "[5 rows x 3 columns]"
     ]
    }
   ],
   "source": [
    "df.head()"
   ]
  },
  {
   "cell_type": "markdown",
   "id": "55a47fed-aebe-4827-9cbe-545fa7df969c",
   "metadata": {},
   "source": [
    "> Vérification des dimensions de la sortie de l'ACP"
   ]
  },
  {
   "cell_type": "code",
   "execution_count": 36,
   "id": "8789ebc4",
   "metadata": {},
   "outputs": [
    {
     "data": {
      "application/vnd.jupyter.widget-view+json": {
       "model_id": "",
       "version_major": 2,
       "version_minor": 0
      },
      "text/plain": [
       "FloatProgress(value=0.0, bar_style='info', description='Progress:', layout=Layout(height='25px', width='50%'),…"
      ]
     },
     "metadata": {},
     "output_type": "display_data"
    },
    {
     "name": "stdout",
     "output_type": "stream",
     "text": [
      "(2,)"
     ]
    }
   ],
   "source": [
    "df.loc[0,'pcaFeatures'].shape"
   ]
  }
 ],
 "metadata": {
  "kernelspec": {
   "display_name": "Python 3 (ipykernel)",
   "language": "python",
   "name": "python3"
  },
  "language_info": {
   "codemirror_mode": {
    "name": "ipython",
    "version": 3
   },
   "file_extension": ".py",
   "mimetype": "text/x-python",
   "name": "python",
   "nbconvert_exporter": "python",
   "pygments_lexer": "ipython3",
   "version": "3.9.18"
  },
  "toc": {
   "base_numbering": 1,
   "nav_menu": {},
   "number_sections": true,
   "sideBar": true,
   "skip_h1_title": false,
   "title_cell": "Table of Contents",
   "title_sidebar": "Contents",
   "toc_cell": false,
   "toc_position": {
    "height": "calc(100% - 180px)",
    "left": "10px",
    "top": "150px",
    "width": "432.4px"
   },
   "toc_section_display": true,
   "toc_window_display": true
  },
  "widgets": {
   "application/vnd.jupyter.widget-state+json": {
    "state": {
     "00f7124f68c84aa28f852ddb600f40a4": {
      "model_module": "@jupyter-widgets/base",
      "model_module_version": "2.0.0",
      "model_name": "LayoutModel",
      "state": {
       "height": "25px",
       "width": "50%"
      }
     },
     "022f0f1145f742db8e29331478ddb8ae": {
      "model_module": "@jupyter-widgets/controls",
      "model_module_version": "2.0.0",
      "model_name": "ProgressStyleModel",
      "state": {
       "description_width": ""
      }
     },
     "0a51a6c4fc204f7cb7e3ef2c1828e1b0": {
      "model_module": "@jupyter-widgets/controls",
      "model_module_version": "2.0.0",
      "model_name": "ProgressStyleModel",
      "state": {
       "description_width": ""
      }
     },
     "30a9839eea714ef7bf869e72d74cd959": {
      "model_module": "@jupyter-widgets/base",
      "model_module_version": "2.0.0",
      "model_name": "LayoutModel",
      "state": {
       "height": "25px",
       "width": "50%"
      }
     },
     "39a79ba37db1418895000f2a4a19c3b1": {
      "model_module": "@jupyter-widgets/base",
      "model_module_version": "2.0.0",
      "model_name": "LayoutModel",
      "state": {
       "height": "25px",
       "width": "50%"
      }
     },
     "401e8929447548d189e7e6fd465e65b8": {
      "model_module": "@jupyter-widgets/base",
      "model_module_version": "2.0.0",
      "model_name": "LayoutModel",
      "state": {
       "height": "25px",
       "width": "50%"
      }
     },
     "46f551d2669344c2aa01f070ff136e9a": {
      "model_module": "@jupyter-widgets/controls",
      "model_module_version": "2.0.0",
      "model_name": "ProgressStyleModel",
      "state": {
       "description_width": ""
      }
     },
     "6da56fbb07514a43ac0ae029e28677f1": {
      "model_module": "@jupyter-widgets/controls",
      "model_module_version": "2.0.0",
      "model_name": "ProgressStyleModel",
      "state": {
       "description_width": ""
      }
     },
     "99bf1e0416594fe0bc83d32dc60cdb7d": {
      "model_module": "@jupyter-widgets/controls",
      "model_module_version": "2.0.0",
      "model_name": "ProgressStyleModel",
      "state": {
       "description_width": ""
      }
     },
     "a28d233245c0485ab816b108efe3561d": {
      "model_module": "@jupyter-widgets/controls",
      "model_module_version": "2.0.0",
      "model_name": "ProgressStyleModel",
      "state": {
       "description_width": ""
      }
     },
     "a5526aeb85dc49a4b1497d7f55f07586": {
      "model_module": "@jupyter-widgets/base",
      "model_module_version": "2.0.0",
      "model_name": "LayoutModel",
      "state": {
       "height": "25px",
       "width": "50%"
      }
     },
     "ca56d5aa0bfe4efe8389f86e6eb58da1": {
      "model_module": "@jupyter-widgets/base",
      "model_module_version": "2.0.0",
      "model_name": "LayoutModel",
      "state": {
       "height": "25px",
       "width": "50%"
      }
     },
     "d5164eeecb5347a588c868a9db813bb3": {
      "model_module": "@jupyter-widgets/base",
      "model_module_version": "2.0.0",
      "model_name": "LayoutModel",
      "state": {
       "height": "25px",
       "width": "50%"
      }
     },
     "dcba18eaf5d8476cb46ea2824901ae72": {
      "model_module": "@jupyter-widgets/controls",
      "model_module_version": "2.0.0",
      "model_name": "ProgressStyleModel",
      "state": {
       "description_width": ""
      }
     }
    },
    "version_major": 2,
    "version_minor": 0
   }
  }
 },
 "nbformat": 4,
 "nbformat_minor": 5
}
